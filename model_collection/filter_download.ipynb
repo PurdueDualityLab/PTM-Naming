{
 "cells": [
  {
   "cell_type": "code",
   "execution_count": 2,
   "metadata": {},
   "outputs": [],
   "source": [
    "import os\n",
    "import json\n",
    "from huggingface_hub import ModelCard, Repository "
   ]
  },
  {
   "cell_type": "code",
   "execution_count": 4,
   "metadata": {},
   "outputs": [],
   "source": [
    "filtered_models='filtered_models.json'\n",
    "download_path='./downloads'\n",
    "\n",
    "\n",
    "with open(os.path.join(filtered_models), \"r\") as f:\n",
    "        filtered_models = json.load(f)"
   ]
  },
  {
   "cell_type": "code",
   "execution_count": 44,
   "metadata": {},
   "outputs": [],
   "source": [
    "for model_arch in filtered_models:\n",
    "    for model in filtered_models[model_arch]:\n",
    "        card = ModelCard.load(model)\n",
    "        # print(card)\n",
    "        break\n",
    "    break"
   ]
  },
  {
   "cell_type": "code",
   "execution_count": 34,
   "metadata": {},
   "outputs": [],
   "source": [
    "from huggingface_hub import HfApi, ModelFilter, list_models\n",
    "api = HfApi()\n",
    "models = api.list_models()"
   ]
  },
  {
   "cell_type": "code",
   "execution_count": 35,
   "metadata": {},
   "outputs": [],
   "source": [
    "models = api.list_models(\n",
    "    filter=ModelFilter(\n",
    "\t\ttask=\"image-classification\",\n",
    "\t\tlibrary=\"pytorch\",\n",
    "\t\ttrained_dataset=\"imagenet\",\n",
    "        model_name=\"BertForMaskedLM\",\n",
    "\t)\n",
    ")"
   ]
  },
  {
   "cell_type": "code",
   "execution_count": 46,
   "metadata": {},
   "outputs": [
    {
     "data": {
      "text/plain": [
       "('albert-base-v1', 'AlbertForMaskedLM')"
      ]
     },
     "execution_count": 46,
     "metadata": {},
     "output_type": "execute_result"
    }
   ],
   "source": [
    "model, model_arch"
   ]
  },
  {
   "cell_type": "code",
   "execution_count": 66,
   "metadata": {},
   "outputs": [],
   "source": [
    "models = api.list_models(search='MIT/ast-finetuned-speech-commands-v2')\n"
   ]
  },
  {
   "cell_type": "code",
   "execution_count": 67,
   "metadata": {},
   "outputs": [
    {
     "name": "stdout",
     "output_type": "stream",
     "text": [
      "Model Name: MIT/ast-finetuned-speech-commands-v2, Tags: ['pytorch', 'audio-spectrogram-transformer', 'audio-classification', 'dataset:speech_commands', 'arxiv:2104.01778', 'transformers', 'license:bsd-3-clause', 'model-index', 'has_space'], Task: audio-classification\n",
      "Model Name: helenai/MIT-ast-finetuned-speech-commands-v2-ov, Tags: ['openvino', 'audio-spectrogram-transformer', 'audio-classification', 'en', 'transformers'], Task: audio-classification\n"
     ]
    }
   ],
   "source": [
    "for model in models:\n",
    "    print(model)"
   ]
  },
  {
   "cell_type": "code",
   "execution_count": 59,
   "metadata": {},
   "outputs": [
    {
     "data": {
      "text/plain": [
       "34"
      ]
     },
     "execution_count": 59,
     "metadata": {},
     "output_type": "execute_result"
    }
   ],
   "source": [
    "model.downloads"
   ]
  },
  {
   "cell_type": "code",
   "execution_count": 68,
   "metadata": {},
   "outputs": [
    {
     "ename": "SyntaxError",
     "evalue": "expression cannot contain assignment, perhaps you meant \"==\"? (3392285102.py, line 2)",
     "output_type": "error",
     "traceback": [
      "\u001b[0;36m  Input \u001b[0;32mIn [68]\u001b[0;36m\u001b[0m\n\u001b[0;31m    models = api.list_models(model_args[\"model_name\"]=model_name)\u001b[0m\n\u001b[0m                             ^\u001b[0m\n\u001b[0;31mSyntaxError\u001b[0m\u001b[0;31m:\u001b[0m expression cannot contain assignment, perhaps you meant \"==\"?\n"
     ]
    }
   ],
   "source": [
    "# Use hfapi to get the model from model_name)\n",
    "models = api.list_models(ModelFilter(model_name))"
   ]
  },
  {
   "cell_type": "code",
   "execution_count": null,
   "metadata": {},
   "outputs": [],
   "source": []
  }
 ],
 "metadata": {
  "kernelspec": {
   "display_name": "PTM",
   "language": "python",
   "name": "python3"
  },
  "language_info": {
   "codemirror_mode": {
    "name": "ipython",
    "version": 3
   },
   "file_extension": ".py",
   "mimetype": "text/x-python",
   "name": "python",
   "nbconvert_exporter": "python",
   "pygments_lexer": "ipython3",
   "version": "3.9.12"
  },
  "orig_nbformat": 4
 },
 "nbformat": 4,
 "nbformat_minor": 2
}
