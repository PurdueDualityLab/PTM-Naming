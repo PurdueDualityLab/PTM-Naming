{
 "cells": [
  {
   "cell_type": "code",
   "execution_count": 1,
   "metadata": {},
   "outputs": [],
   "source": [
    "import os\n",
    "import random\n",
    "import requests\n",
    "from bs4 import BeautifulSoup\n",
    "\n",
    "from tqdm import tqdm\n",
    "\n",
    "import github\n",
    "from github import Github\n",
    "\n",
    "from loguru import logger"
   ]
  },
  {
   "cell_type": "code",
   "execution_count": 2,
   "metadata": {},
   "outputs": [],
   "source": [
    "USERS_URL = \"https://huggingface.co/users\"\n",
    "ORG_URL = \"https://huggingface.co/organizations\"\n",
    "\n",
    "GH_TOKEN = os.getenv('GH_TOKEN')\n"
   ]
  },
  {
   "cell_type": "code",
   "execution_count": 4,
   "metadata": {},
   "outputs": [],
   "source": [
    "username = \"stefan-it\""
   ]
  },
  {
   "cell_type": "code",
   "execution_count": 38,
   "metadata": {},
   "outputs": [],
   "source": []
  },
  {
   "cell_type": "code",
   "execution_count": 39,
   "metadata": {},
   "outputs": [
    {
     "data": {
      "text/plain": [
       "'stefan@schweter.it'"
      ]
     },
     "execution_count": 39,
     "metadata": {},
     "output_type": "execute_result"
    }
   ],
   "source": [
    "get_email(username)"
   ]
  },
  {
   "cell_type": "markdown",
   "metadata": {},
   "source": [
    "# ORG"
   ]
  },
  {
   "cell_type": "code",
   "execution_count": 48,
   "metadata": {},
   "outputs": [
    {
     "name": "stdout",
     "output_type": "stream",
     "text": [
      "[('Triple Whale', '/triplewhale', 'company'), ('YNAB', '/ynab', 'company'), ('Spear AI', '/spear-ai', 'company'), ('Hugging Face H4', '/HuggingFaceH4', 'company'), ('Mirakl', '/mirakl', 'company'), ('Universal Grammar', '/UGLabs', 'company'), ('Hatch', '/Hatchify', 'company'), ('Aptedge', '/aptedge', 'company'), ('Ilmiya', '/Ilmiya', 'company'), ('Tenyx', '/tenyx', 'company'), ('it.lopez-be.ch', '/lopezONE', 'company'), ('Cohere For AI', '/CohereForAI', 'community'), ('Synopsys Inc.', '/Synopsys', 'No Type Found'), ('AMD', '/amd', 'company'), ('Trebuchet Network', '/trebuchetnetwork', 'company'), ('foxintelligence_hub', '/foxtedbrun', 'company'), ('DealerX Partners', '/dealerx', 'company'), ('mangoes AI', '/mangoesai', 'company'), ('LivePerson Inc.', '/liveperson', 'company'), ('Booth.ai', '/booth-ai', 'company'), ('OnTheGoSystems', '/otgs', 'company'), ('onlineformapro', '/onlineformapro', 'company'), ('Orange Business', '/Orange-Business', 'company'), ('Infinite-Compute.com, LLC', '/Infinite-Compute', 'company'), ('Psych-UK Ltd', '/PsychUK', 'company'), ('PD4Solutions', '/pd4solutions', 'company'), ('Foony Limited', '/Foony', 'company'), ('Elise AI Technologies', '/EliseAI', 'company'), ('Subspace Network', '/Subspace', 'company'), ('Toyota Connected India', '/TCIN', 'company'), ('Griptape', '/griptape', 'company'), ('Haven Health Management', '/MarketingHHM', 'company'), ('Sparkle AI', '/sparkleai', 'company'), ('Omni Federal', '/OmniFederal', 'company'), ('PlayHT', '/PlayHT', 'company'), ('Starbourne Labs', '/Starbourne', 'company'), ('lecocqassociate', '/lecocqassociate', 'company'), ('Lokalise', '/lokalise', 'company'), ('Fast Medical AI', '/fastmedical', 'company'), ('Fidelity Investments', '/FidelityInvestments', 'company'), ('Giga ML', '/GigaML', 'company'), ('Prezi', '/Prezi', 'company'), ('Vera Solutions', '/VeraSolutions', 'company'), ('Knowledgehook', '/Knowledgehook', 'company'), ('Oscar Health', '/OscarHealth', 'company'), ('Evercore, Inc.', '/Evercore', 'company'), ('LaconicAI', '/LaconicAI', 'company'), ('Bulldog', '/getbulldogxyz', 'company'), ('Drom Solutions KG', '/marbles-run', 'company'), ('Chegg Inc', '/cheggllm', 'company')]\n"
     ]
    }
   ],
   "source": [
    "page = 1  # Start from the first page\n",
    "while True:  # Keep looping until there are no more pages\n",
    "    response = requests.get(f\"{ORG_URL}?p={page}\")  # Ensure the query parameter is correct for pagination\n",
    "    soup = BeautifulSoup(response.text, 'html.parser')\n",
    "\n",
    "    org_containers = soup.find_all('article', class_='overview-card-wrapper')\n",
    "\n",
    "    org_details = []\n",
    "\n",
    "    for container in org_containers:\n",
    "        # Extract the organization's URL\n",
    "        org_url = container.find('a').get('href')\n",
    "        \n",
    "        # Extract the organization's name, assuming it's contained within an <h4> tag or similar\n",
    "        org_name = container.find('h4').text.strip() if container.find('h4') else \"No Name Found\"\n",
    "        \n",
    "        # Extract the organization's type, assuming it's denoted by a <span> with text like \"Community\" or \"Enterprise\"\n",
    "        org_type = container.find('span', class_='capitalize').text.strip() if container.find('span', class_='capitalize') else \"No Type Found\"\n",
    "        \n",
    "        org_details.append((org_name, org_url, org_type))\n",
    "\n",
    "    print(org_details)\n",
    "\n",
    "\n",
    "\n",
    "    break"
   ]
  },
  {
   "cell_type": "code",
   "execution_count": null,
   "metadata": {},
   "outputs": [],
   "source": []
  },
  {
   "cell_type": "markdown",
   "metadata": {},
   "source": []
  }
 ],
 "metadata": {
  "kernelspec": {
   "display_name": "PTM",
   "language": "python",
   "name": "python3"
  },
  "language_info": {
   "codemirror_mode": {
    "name": "ipython",
    "version": 3
   },
   "file_extension": ".py",
   "mimetype": "text/x-python",
   "name": "python",
   "nbconvert_exporter": "python",
   "pygments_lexer": "ipython3",
   "version": "3.9.12"
  }
 },
 "nbformat": 4,
 "nbformat_minor": 2
}
